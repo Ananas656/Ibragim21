{
  "cells": [
    {
      "cell_type": "markdown",
      "metadata": {
        "id": "MH-3kVwvJYeP"
      },
      "source": [
        "# 2.5.1 Основы написания функций"
      ]
    },
    {
      "cell_type": "markdown",
      "metadata": {
        "id": "gMwyKhlQJ1mf"
      },
      "source": [
        "## Задание 1"
      ]
    },
    {
      "cell_type": "markdown",
      "metadata": {
        "id": "Owu684lKKrjJ"
      },
      "source": [
        "**Условие:**\n",
        "Напишите функцию ```multi_mean()```, которая может принимать на вход любое количество чисел и возвращает кортеж различных средних значений (среднее арифметическое, среднее геометрическое, среднее гармоническое). В ответе укажите результат работы функции для ```multi_mean(1.74, 2, 18, 24)```.\n",
        "\n",
        "**Формат ответа:**\n",
        "Кортеж чисел (например, ```(25.4, 8.2, 3.5)```)"
      ]
    },
    {
      "cell_type": "markdown",
      "metadata": {
        "id": "OCTvo3fHLaaJ"
      },
      "source": [
        "**Решение:**"
      ]
    },
    {
      "cell_type": "code",
      "execution_count": null,
      "metadata": {
        "id": "f9_8IGndLeRO",
        "colab": {
          "base_uri": "https://localhost:8080/"
        },
        "outputId": "a09792ff-49b2-43e4-d6d3-40640ac3984a"
      },
      "outputs": [
        {
          "output_type": "stream",
          "name": "stdout",
          "text": [
            "(11.435, 6.2268119139225995, 3.4131589701675518)\n"
          ]
        }
      ],
      "source": [
        "def multi_mean(*args):\n",
        "\n",
        "    n = len(args)\n",
        "    arithmetic_mean = sum(args) / n\n",
        "    geometric_mean = (args[0] * args[1] * args[2] * args[3]) ** (1 / n)\n",
        "    harmonic_mean = n / sum(1 / num for num in args)\n",
        "    return (arithmetic_mean, geometric_mean, harmonic_mean)\n",
        "\n",
        "result = multi_mean(1.74, 2, 18, 24)\n",
        "print(result)\n"
      ]
    },
    {
      "cell_type": "markdown",
      "metadata": {
        "id": "po9IAGLrN40v"
      },
      "source": [
        "## Задание 2"
      ]
    },
    {
      "cell_type": "markdown",
      "metadata": {
        "id": "d1a0uN6YN41B"
      },
      "source": [
        "**Условие:**\n",
        "Напишите функцию, которая принимает на вход в виде именованных переменных длины сторон параллелепипеда и возвращает кортеж значений (площадь параллелепипеда, объем параллелепипеда). Напишите строку документации для данной функции. В ответе укажите результат работы функции для длин сторон ```2,12,6```.\n",
        "\n",
        "**Формат ответа:**\n",
        "Кортеж чисел (например, ```(25.4, 8.2)```)"
      ]
    },
    {
      "cell_type": "markdown",
      "metadata": {
        "id": "iWPZadMmN41H"
      },
      "source": [
        "**Решение:**"
      ]
    },
    {
      "cell_type": "code",
      "execution_count": null,
      "metadata": {
        "id": "woFKze5xN41M",
        "colab": {
          "base_uri": "https://localhost:8080/"
        },
        "outputId": "14edc87d-3463-4599-f085-b2a9223a79ab"
      },
      "outputs": [
        {
          "output_type": "stream",
          "name": "stdout",
          "text": [
            "(216, 144)\n"
          ]
        }
      ],
      "source": [
        "def parallelepiped_calc(length, width, height):\n",
        "    area = 2 * (length * width + width * height + height * length)\n",
        "    volume = length * width * height\n",
        "    return (area, volume)\n",
        "\n",
        "result = parallelepiped_calc(length=2, width=12, height=6)\n",
        "print(result)\n"
      ]
    },
    {
      "cell_type": "markdown",
      "metadata": {
        "id": "ZuoZQfnXPWcB"
      },
      "source": [
        "## Задание 3"
      ]
    },
    {
      "cell_type": "markdown",
      "metadata": {
        "id": "CCiiVIVzPWcF"
      },
      "source": [
        "**Условие:**\n",
        "Напишите функцию подсчета факториала числа. Найдите значение ```12!```.\n",
        "\n",
        "**Формат ответа:**\n",
        "Число (например, ```1235```)\n"
      ]
    },
    {
      "cell_type": "markdown",
      "metadata": {
        "id": "Flg_SH_8PWcJ"
      },
      "source": [
        "**Решение:**"
      ]
    },
    {
      "cell_type": "code",
      "execution_count": null,
      "metadata": {
        "id": "OqMIG3a9PWcM",
        "colab": {
          "base_uri": "https://localhost:8080/"
        },
        "outputId": "ef2ceb8e-6595-437b-a0db-fcc0fb7253d7"
      },
      "outputs": [
        {
          "output_type": "stream",
          "name": "stdout",
          "text": [
            "479001600\n"
          ]
        }
      ],
      "source": [
        "def factorial(n):\n",
        "    if n == 0:\n",
        "        return 1\n",
        "    else:\n",
        "        return n * factorial(n - 1)\n",
        "\n",
        "result = factorial(12)\n",
        "print(result)"
      ]
    }
  ],
  "metadata": {
    "colab": {
      "provenance": []
    },
    "kernelspec": {
      "display_name": "Python 3 (ipykernel)",
      "language": "python",
      "name": "python3"
    },
    "language_info": {
      "codemirror_mode": {
        "name": "ipython",
        "version": 3
      },
      "file_extension": ".py",
      "mimetype": "text/x-python",
      "name": "python",
      "nbconvert_exporter": "python",
      "pygments_lexer": "ipython3",
      "version": "3.11.7"
    }
  },
  "nbformat": 4,
  "nbformat_minor": 0
}