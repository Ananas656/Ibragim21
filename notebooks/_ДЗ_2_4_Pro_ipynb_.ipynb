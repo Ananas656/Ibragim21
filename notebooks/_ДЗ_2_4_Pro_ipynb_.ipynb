{
  "cells": [
    {
      "cell_type": "markdown",
      "metadata": {
        "id": "MH-3kVwvJYeP"
      },
      "source": [
        "# 2.4 Управляющие структуры. Условные ветвления и циклы"
      ]
    },
    {
      "cell_type": "markdown",
      "metadata": {
        "id": "gMwyKhlQJ1mf"
      },
      "source": [
        "## Задание 1"
      ]
    },
    {
      "cell_type": "markdown",
      "metadata": {
        "id": "Owu684lKKrjJ"
      },
      "source": [
        "Вычислить приблизительное значение экспоненциальной функции с использованием ряда Тейлора:\n",
        "$$\n",
        "e^x=\\sum_{n=0}^{100} {\\frac {x^n} {n!}}.\n",
        "$$\n",
        "Найдите значение $e^{20}$, округленное до 5 знаков после запятой.\n",
        "\n",
        "**Формат ответа:**\n",
        "Число (например, ```3213156.11234```)"
      ]
    },
    {
      "cell_type": "markdown",
      "metadata": {
        "id": "OCTvo3fHLaaJ"
      },
      "source": [
        "**Решение:**"
      ]
    },
    {
      "cell_type": "code",
      "execution_count": null,
      "metadata": {
        "colab": {
          "base_uri": "https://localhost:8080/"
        },
        "id": "f9_8IGndLeRO",
        "outputId": "300c4ec2-2d2d-4da1-e5a1-acb88a00af7a"
      },
      "outputs": [
        {
          "name": "stdout",
          "output_type": "stream",
          "text": [
            "485165195.40979\n"
          ]
        }
      ],
      "source": [
        "def factorial(n):\n",
        "    if n == 0:\n",
        "        return 1\n",
        "    else:\n",
        "        return n * factorial(n - 1)\n",
        "\n",
        "def exponential(x, n):\n",
        "    result = 0\n",
        "    for i in range(n + 1):\n",
        "        result += (x ** i) / factorial(i)\n",
        "    return result\n",
        "\n",
        "e_approximation = exponential(20, 100)\n",
        "print(round(e_approximation, 5))\n"
      ]
    },
    {
      "cell_type": "markdown",
      "metadata": {
        "id": "g5S0h2-wKfGE"
      },
      "source": [
        "## Задание 2"
      ]
    },
    {
      "cell_type": "markdown",
      "metadata": {
        "id": "orX7BUzcPKKf"
      },
      "source": [
        "**Условие:**\n",
        "Найдите среднее арифметическое всех **простых** делителей числа $n$, заданного пользователем. Дайте ответ для $n = 125632$. Требуется сперва получить лист делителей, а потом уже найти среднее арифметическое.\n",
        "\n",
        "**Формат ответа:** Число (например, ```2112.87```)"
      ]
    },
    {
      "cell_type": "markdown",
      "metadata": {
        "id": "ESSLfwqEPKKn"
      },
      "source": [
        "**Решение:**"
      ]
    },
    {
      "cell_type": "code",
      "execution_count": null,
      "metadata": {
        "colab": {
          "base_uri": "https://localhost:8080/"
        },
        "id": "y8HOlaNLPKKq",
        "outputId": "b4cb7885-bc7b-4b0a-fe57-ed847490ecd2"
      },
      "outputs": [
        {
          "name": "stdout",
          "output_type": "stream",
          "text": [
            "55.333333333333336\n"
          ]
        }
      ],
      "source": [
        "n = 125632\n",
        "divisors = []\n",
        "for i in range(1, n + 1):\n",
        "    if n % i == 0:\n",
        "        divisors.append(i)\n",
        "\n",
        "prime_divisors = []\n",
        "for divisor in divisors:\n",
        "    is_prime = True\n",
        "    if divisor < 2:\n",
        "        is_prime = False\n",
        "    for j in range(2, int(divisor**0.5) + 1):\n",
        "        if divisor % j == 0:\n",
        "            is_prime = False\n",
        "            break\n",
        "    if is_prime:\n",
        "        prime_divisors.append(divisor)\n",
        "\n",
        "if prime_divisors:\n",
        "    average = sum(prime_divisors) / len(prime_divisors)\n",
        "else:\n",
        "    average = 0\n",
        "\n",
        "print(average)\n"
      ]
    },
    {
      "cell_type": "markdown",
      "metadata": {
        "id": "tq0Fcrg1KfXQ"
      },
      "source": [
        "## Задание 3"
      ]
    },
    {
      "cell_type": "markdown",
      "metadata": {
        "id": "3xp-jyyHPMIb"
      },
      "source": [
        "**Условие:** Создайте игру, в которой пользователь должен угадать заранее случайным образом выбранное целое число от 1 до 100. В случае неправильного ответа программа должна делать подсказки вида: это число меньше(больше), чем загаданное.  Используйте модуль ```random``` и цикл ```while```. Не забудьте поставить условие выхода, например, при вводе символа *. Сыграйте с машиной в эту игру 3 раза(в каждой игре до выигрыша) и укажите среднее значение попыток до успешного угадывания.\n",
        "\n",
        "**Формат ответа:** Число (например, ```8```)"
      ]
    },
    {
      "cell_type": "markdown",
      "metadata": {
        "id": "H5ZlBsI2PMIi"
      },
      "source": [
        "**Решение:**"
      ]
    },
    {
      "cell_type": "code",
      "execution_count": null,
      "metadata": {
        "colab": {
          "base_uri": "https://localhost:8080/"
        },
        "id": "6amsYUCoPMIn",
        "outputId": "34c02af5-246b-4e84-8233-e495ad147587"
      },
      "outputs": [
        {
          "output_type": "stream",
          "name": "stdout",
          "text": [
            "Угадайте число от 1 до 100. Введите * для выхода.\n",
            "Ваша попытка: 25\n",
            "Загаданное число меньше.\n",
            "Ваша попытка: 10\n",
            "Загаданное число больше.\n",
            "Ваша попытка: 15\n",
            "Загаданное число меньше.\n",
            "Ваша попытка: 13\n",
            "Загаданное число больше.\n",
            "Ваша попытка: 14\n",
            "Поздравляем! Вы угадали число 14 за 5 попыток.\n",
            "Угадайте число от 1 до 100. Введите * для выхода.\n",
            "Ваша попытка: *\n",
            "Игра завершена.\n",
            "Угадайте число от 1 до 100. Введите * для выхода.\n",
            "Ваша попытка: *\n",
            "Игра завершена.\n",
            "Среднее количество попыток до успешного угадывания: 1.67\n"
          ]
        }
      ],
      "source": [
        "import random\n",
        "\n",
        "total_attempts = 0\n",
        "num_games = 3\n",
        "\n",
        "for _ in range(num_games):\n",
        "    random_number = random.randint(1, 100)\n",
        "    attempts = 0\n",
        "\n",
        "    print(\"Угадайте число от 1 до 100. Введите * для выхода.\")\n",
        "    while True:\n",
        "        guess = input(\"Ваша попытка: \")\n",
        "\n",
        "        if guess == \"*\":\n",
        "            print(\"Игра завершена.\")\n",
        "            break\n",
        "\n",
        "        try:\n",
        "            guess = int(guess)\n",
        "        except ValueError:\n",
        "            print(\"Пожалуйста, введите целое число или * для выхода.\")\n",
        "            continue\n",
        "\n",
        "        attempts += 1\n",
        "\n",
        "        if guess < random_number:\n",
        "            print(\"Загаданное число больше.\")\n",
        "        elif guess > random_number:\n",
        "            print(\"Загаданное число меньше.\")\n",
        "        else:\n",
        "            print(\"Поздравляем! Вы угадали число {} за {} попыток.\".format(random_number, attempts))\n",
        "            break\n",
        "\n",
        "    total_attempts += attempts\n",
        "\n",
        "average_attempts = total_attempts / num_games\n",
        "print(\"Среднее количество попыток до успешного угадывания: {:.2f}\".format(average_attempts))\n"
      ]
    }
  ],
  "metadata": {
    "colab": {
      "provenance": []
    },
    "kernelspec": {
      "display_name": "Python 3 (ipykernel)",
      "language": "python",
      "name": "python3"
    },
    "language_info": {
      "codemirror_mode": {
        "name": "ipython",
        "version": 3
      },
      "file_extension": ".py",
      "mimetype": "text/x-python",
      "name": "python",
      "nbconvert_exporter": "python",
      "pygments_lexer": "ipython3",
      "version": "3.11.7"
    }
  },
  "nbformat": 4,
  "nbformat_minor": 0
}